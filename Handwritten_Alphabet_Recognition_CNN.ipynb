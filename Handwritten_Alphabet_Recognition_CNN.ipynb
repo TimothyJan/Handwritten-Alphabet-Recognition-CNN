{
  "nbformat": 4,
  "nbformat_minor": 0,
  "metadata": {
    "colab": {
      "name": "Handwritten-Alphabet-Recognition-CNN.ipynb",
      "provenance": [],
      "authorship_tag": "ABX9TyOo7sGXZCB3e2ZLlo/B770E",
      "include_colab_link": true
    },
    "kernelspec": {
      "name": "python3",
      "display_name": "Python 3"
    },
    "language_info": {
      "name": "python"
    }
  },
  "cells": [
    {
      "cell_type": "markdown",
      "metadata": {
        "id": "view-in-github",
        "colab_type": "text"
      },
      "source": [
        "<a href=\"https://colab.research.google.com/github/TimothyJan/Handwritten-Alphabet-Recognition-CNN/blob/main/Handwritten_Alphabet_Recognition_CNN.ipynb\" target=\"_parent\"><img src=\"https://colab.research.google.com/assets/colab-badge.svg\" alt=\"Open In Colab\"/></a>"
      ]
    },
    {
      "cell_type": "code",
      "execution_count": 1,
      "metadata": {
        "id": "fv9j1A84vbwU"
      },
      "outputs": [],
      "source": [
        "import matplotlib.pyplot as plt\n",
        "import cv2\n",
        "import numpy as np\n",
        "from tensorflow.keras.models import Sequential\n",
        "from tensorflow.keras.layers import Dense, Flatten, Conv2D, MaxPool2D, Dropout\n",
        "from tensorflow.keras.optimizers import SGD, Adam\n",
        "from tensorflow.keras.callbacks import ReduceLROnPlateau, EarlyStopping\n",
        "from tensorflow.keras.utils import to_categorical\n",
        "import pandas as pd\n",
        "import numpy as np\n",
        "from sklearn.model_selection import train_test_split\n",
        "from sklearn.utils import shuffle"
      ]
    },
    {
      "cell_type": "markdown",
      "source": [
        "The dataset for this project contains 372450 images of alphabets of 28×28, all present in the form of a CSV file: \n",
        "<a href='https://www.kaggle.com/datasets/sachinpatel21/az-handwritten-alphabets-in-csv-format?resource=download'>Handwritten Character Recognition Dataset</a>"
      ],
      "metadata": {
        "id": "mv-l8iZZJSRQ"
      }
    },
    {
      "cell_type": "code",
      "source": [
        "data = pd.read_csv(r\"A_Z Handwritten Data.csv\").astype('float32')\n",
        "print(data.head(10))"
      ],
      "metadata": {
        "id": "9YGTIOoVvm5x",
        "colab": {
          "base_uri": "https://localhost:8080/"
        },
        "outputId": "bd1ab3e1-40dc-4f65-989a-09255960aacf"
      },
      "execution_count": 2,
      "outputs": [
        {
          "output_type": "stream",
          "name": "stdout",
          "text": [
            "     0  0.1  0.2  0.3  0.4  0.5  0.6  0.7  0.8  0.9  ...  0.639  0.640  0.641  \\\n",
            "0  0.0  0.0  0.0  0.0  0.0  0.0  0.0  0.0  0.0  0.0  ...    0.0    0.0    0.0   \n",
            "1  0.0  0.0  0.0  0.0  0.0  0.0  0.0  0.0  0.0  0.0  ...    0.0    0.0    0.0   \n",
            "2  0.0  0.0  0.0  0.0  0.0  0.0  0.0  0.0  0.0  0.0  ...    0.0    0.0    0.0   \n",
            "3  0.0  0.0  0.0  0.0  0.0  0.0  0.0  0.0  0.0  0.0  ...    0.0    0.0    0.0   \n",
            "4  0.0  0.0  0.0  0.0  0.0  0.0  0.0  0.0  0.0  0.0  ...    0.0    0.0    0.0   \n",
            "5  0.0  0.0  0.0  0.0  0.0  0.0  0.0  0.0  0.0  0.0  ...    0.0    0.0    0.0   \n",
            "6  0.0  0.0  0.0  0.0  0.0  0.0  0.0  0.0  0.0  0.0  ...    0.0    0.0    0.0   \n",
            "7  0.0  0.0  0.0  0.0  0.0  0.0  0.0  0.0  0.0  0.0  ...    0.0    0.0    0.0   \n",
            "8  0.0  0.0  0.0  0.0  0.0  0.0  0.0  0.0  0.0  0.0  ...    0.0    0.0    0.0   \n",
            "9  0.0  0.0  0.0  0.0  0.0  0.0  0.0  0.0  0.0  0.0  ...    0.0    0.0    0.0   \n",
            "\n",
            "   0.642  0.643  0.644  0.645  0.646  0.647  0.648  \n",
            "0    0.0    0.0    0.0    0.0    0.0    0.0    0.0  \n",
            "1    0.0    0.0    0.0    0.0    0.0    0.0    0.0  \n",
            "2    0.0    0.0    0.0    0.0    0.0    0.0    0.0  \n",
            "3    0.0    0.0    0.0    0.0    0.0    0.0    0.0  \n",
            "4    0.0    0.0    0.0    0.0    0.0    0.0    0.0  \n",
            "5    0.0    0.0    0.0    0.0    0.0    0.0    0.0  \n",
            "6    0.0    0.0    0.0    0.0    0.0    0.0    0.0  \n",
            "7    0.0    0.0    0.0    0.0    0.0    0.0    0.0  \n",
            "8    0.0    0.0    0.0    0.0    0.0    0.0    0.0  \n",
            "9    0.0    0.0    0.0    0.0    0.0    0.0    0.0  \n",
            "\n",
            "[10 rows x 785 columns]\n"
          ]
        }
      ]
    },
    {
      "cell_type": "markdown",
      "source": [
        "<h1>Split data into images and their corresponding labels.</h1>"
      ],
      "metadata": {
        "id": "X5PZM3T5JpAB"
      }
    },
    {
      "cell_type": "code",
      "source": [
        "# removing 'o' column from the labels\n",
        "X = data.drop('0',axis = 1)\n",
        "y = data['0']"
      ],
      "metadata": {
        "id": "kmxCb4-rvpg4"
      },
      "execution_count": 3,
      "outputs": []
    },
    {
      "cell_type": "markdown",
      "source": [
        "<h1>Reshape the data in csv file to be displayed as an image.</h1>"
      ],
      "metadata": {
        "id": "xSYRHYnwJ1f_"
      }
    },
    {
      "cell_type": "code",
      "source": [
        "# Splitting data into training and testing datasets\n",
        "# display images as 28x28pixels, originally 784 columns of pixel data\n",
        "train_x, test_x, train_y, test_y = train_test_split(X, y, test_size = 0.2)\n",
        "train_x = np.reshape(train_x.values, (train_x.shape[0], 28,28))\n",
        "test_x = np.reshape(test_x.values, (test_x.shape[0], 28,28))\n",
        "print(\"Train data shape: \", train_x.shape)\n",
        "print(\"Test data shape: \", test_x.shape)"
      ],
      "metadata": {
        "id": "iCEyXP8FHPdq",
        "outputId": "79075c26-a053-4dbe-dc81-d0540ea04938",
        "colab": {
          "base_uri": "https://localhost:8080/"
        }
      },
      "execution_count": 4,
      "outputs": [
        {
          "output_type": "stream",
          "name": "stdout",
          "text": [
            "Train data shape:  (297960, 28, 28)\n",
            "Test data shape:  (74490, 28, 28)\n"
          ]
        }
      ]
    },
    {
      "cell_type": "markdown",
      "source": [
        "<h1>Map Integer values with characters.</h1>"
      ],
      "metadata": {
        "id": "mzIWUGKvJ71n"
      }
    },
    {
      "cell_type": "code",
      "source": [
        "word_dict = {0:'A',1:'B',2:'C',3:'D',4:'E',5:'F',6:'G',7:'H',8:'I',9:'J',10:'K',11:'L',12:'M',13:'N',14:'O',15:'P',16:'Q',17:'R',18:'S',19:'T',20:'U',21:'V',22:'W',23:'X', 24:'Y',25:'Z'}"
      ],
      "metadata": {
        "id": "1F-DBh__HWZX"
      },
      "execution_count": 5,
      "outputs": []
    },
    {
      "cell_type": "markdown",
      "source": [
        "<h1>Plot the number of alphabets in the dataset.</h1>"
      ],
      "metadata": {
        "id": "_YhQGACNJ_TB"
      }
    },
    {
      "cell_type": "code",
      "source": [
        "y_int = np.int0(y)\n",
        "count = np.zeros(26, dtype='int')\n",
        "for i in y_int:\n",
        "    count[i] +=1\n",
        "alphabets = []\n",
        "for i in word_dict.values():\n",
        "    alphabets.append(i)\n",
        "fig, ax = plt.subplots(1,1, figsize=(10,10))\n",
        "ax.barh(alphabets, count)\n",
        "plt.title('Distribution of Alphabet')\n",
        "plt.xlabel(\"Number of elements \")\n",
        "plt.ylabel(\"Alphabets\")\n",
        "plt.grid()\n",
        "plt.show()"
      ],
      "metadata": {
        "id": "4TZlvg4vHk9K",
        "outputId": "16462a7c-86ee-4bd0-d198-5748445080c4",
        "colab": {
          "base_uri": "https://localhost:8080/",
          "height": 621
        }
      },
      "execution_count": 6,
      "outputs": [
        {
          "output_type": "display_data",
          "data": {
            "text/plain": [
              "<Figure size 720x720 with 1 Axes>"
            ],
            "image/png": "[encoded data removed]"
          },
          "metadata": {
            "needs_background": "light"
          }
        }
      ]
    },
    {
      "cell_type": "markdown",
      "source": [
        "<h1>Shuffle the data.</h1>"
      ],
      "metadata": {
        "id": "n6SxDHH-KFLp"
      }
    },
    {
      "cell_type": "code",
      "source": [
        "shuff = shuffle(train_x[:100])\n",
        "fig, ax = plt.subplots(3,3, figsize = (10,10))\n",
        "axes = ax.flatten()\n",
        "for i in range(9):\n",
        "    _, shu = cv2.threshold(shuff[i], 30, 200, cv2.THRESH_BINARY)\n",
        "    axes[i].imshow(np.reshape(shuff[i], (28,28)), cmap=\"Greys\")\n",
        "plt.show()"
      ],
      "metadata": {
        "id": "s18D_OksHzFj",
        "outputId": "7031f7ae-72cf-40dd-ae21-e9f9952c0647",
        "colab": {
          "base_uri": "https://localhost:8080/",
          "height": 593
        }
      },
      "execution_count": 7,
      "outputs": [
        {
          "output_type": "display_data",
          "data": {
            "text/plain": [
              "<Figure size 720x720 with 9 Axes>"
            ],
            "image/png": "[encoded data removed]"
          },
          "metadata": {
            "needs_background": "light"
          }
        }
      ]
    },
    {
      "cell_type": "markdown",
      "source": [
        "<h1>Reshape the training & test dataset to be put in model.</h1>\n",
        "Using the method to_categorical(), a numpy array (or) a vector which has integers that represent different categories, can be converted into a numpy array (or) a matrix which has binary values and has columns equal to the number of categories in the data."
      ],
      "metadata": {
        "id": "RXfKBnUNKI8D"
      }
    },
    {
      "cell_type": "code",
      "source": [
        "train_X = train_x.reshape(train_x.shape[0],train_x.shape[1],train_x.shape[2],1)\n",
        "print(\"New shape of train data: \", train_X.shape)\n",
        "test_X = test_x.reshape(test_x.shape[0], test_x.shape[1], test_x.shape[2],1)\n",
        "print(\"New shape of train data: \", test_X.shape)\n",
        "# Reshape the train & test image dataset so that they can be put in the model.\n",
        "# New shape of train data:  (297960, 28, 28, 1)\n",
        "# New shape of train data:  (74490, 28, 28, 1)"
      ],
      "metadata": {
        "id": "FG37aigCIOjp",
        "outputId": "16051f78-b284-4913-e64d-ad7f6144a01c",
        "colab": {
          "base_uri": "https://localhost:8080/"
        }
      },
      "execution_count": 8,
      "outputs": [
        {
          "output_type": "stream",
          "name": "stdout",
          "text": [
            "New shape of train data:  (297960, 28, 28, 1)\n",
            "New shape of train data:  (74490, 28, 28, 1)\n"
          ]
        }
      ]
    },
    {
      "cell_type": "markdown",
      "source": [
        "<h1>Reshape the training and test dataset so that it can be put in the model.</h1>\n",
        "The single float values are converted to categorical values. This is done as the CNN model takes input of labels & generates the output as a vector of probabilities."
      ],
      "metadata": {
        "id": "NHLUDD8FJJRX"
      }
    },
    {
      "cell_type": "code",
      "source": [
        "train_yOHE = to_categorical(train_y, num_classes = 26, dtype='int')\n",
        "print(\"New shape of train labels: \", train_yOHE.shape)\n",
        "test_yOHE = to_categorical(test_y, num_classes = 26, dtype='int')\n",
        "print(\"New shape of test labels: \", test_yOHE.shape)"
      ],
      "metadata": {
        "id": "wiIIl1-5Ihm8",
        "outputId": "bd302102-c9e8-4d46-80a7-6e9ea6abeff7",
        "colab": {
          "base_uri": "https://localhost:8080/"
        }
      },
      "execution_count": 9,
      "outputs": [
        {
          "output_type": "stream",
          "name": "stdout",
          "text": [
            "New shape of train labels:  (297960, 26)\n",
            "New shape of test labels:  (74490, 26)\n"
          ]
        }
      ]
    },
    {
      "cell_type": "markdown",
      "source": [
        "<h3>CNN stands for Convolutional Neural Networks that are used to extract the features of the images using several layers of filters.</h3>\n",
        "<ul>\n",
        "  <li>The convolution layers are generally followed by maxpool layers that are used to reduce the number of features extracted and ultimately the output of the maxpool and layers and convolution layers are flattened into a vector of single dimension and are given as an input to the Dense layer (The fully connected network).</li>\n",
        "</ul>"
      ],
      "metadata": {
        "id": "NEEedl1cKcsT"
      }
    },
    {
      "cell_type": "code",
      "source": [
        "model = Sequential()\n",
        "model.add(Conv2D(filters=32, kernel_size=(3, 3), activation='relu', input_shape=(28,28,1)))\n",
        "model.add(MaxPool2D(pool_size=(2, 2), strides=2))\n",
        "model.add(Conv2D(filters=64, kernel_size=(3, 3), activation='relu', padding = 'same'))\n",
        "model.add(MaxPool2D(pool_size=(2, 2), strides=2))\n",
        "model.add(Conv2D(filters=128, kernel_size=(3, 3), activation='relu', padding = 'valid'))\n",
        "model.add(MaxPool2D(pool_size=(2, 2), strides=2))\n",
        "model.add(Flatten())\n",
        "model.add(Dense(64,activation =\"relu\"))\n",
        "model.add(Dense(128,activation =\"relu\"))\n",
        "model.add(Dense(26,activation =\"softmax\"))"
      ],
      "metadata": {
        "id": "a6wzOxjwItq_"
      },
      "execution_count": 10,
      "outputs": []
    },
    {
      "cell_type": "markdown",
      "source": [
        "CNN model designed for training the model over the training dataset. We create a <code>Sequential</code> model.<br>\n",
        "<code>Conv2D()</code>: 2D convolution layer (e.g. spatial convolution over images.) This layer creates a convolution kernel that is convolved with the layer input to produce a tensor of outputs.\n",
        "<ul>\n",
        "  <li><code>filters</code>: Integer, the dimensionality of the output space</li>\n",
        "  <li><code>kernel_size</code>: An integer or tuple/list of 2 integers, specifying the height and width of the 2D convolution window. Can be a single integer to specify the same value for all spatial dimensions.</li>\n",
        "  <li><code>activation</code>: Activation function to use</li>\n",
        "  <li><code>padding</code>: one of \"valid\" or \"same\" (case-insensitive). \"valid\" means no padding. \"same\" results in padding with zeros evenly to the left/right or up/down of the input. </li>\n",
        "</ul>\n",
        "<br>\n",
        "<code>MaxPooling2D()</code>: Downsamples the input along its spatial dimensions (height and width) by taking the maximum value over an input window (of size defined by pool_size) for each channel of the input. The window is shifted by strides along each dimension.\n",
        "<ul>\n",
        "  <li><code>pool_size</code>: integer or tuple of 2 integers, window size over which to take the maximum. (2, 2) will take the max value over a 2x2 pooling window. If only one integer is specified, the same window length will be used for both dimensions.</li>\n",
        "  <li><code>strides</code>: Integer, tuple of 2 integers, or None. Strides values. Specifies how far the pooling window moves for each pooling step. If None, it will default to pool_size.</li>\n",
        "</ul>\n",
        "\n",
        "<code>flatten()</code>: flattens the input. Does not affect the batch size. \n",
        "\n",
        "<code>Dense()</code>: densely connected NN layer. Dense layer is a neural network layer that is connected deeply, which means each neuron in the dense layer receives input from all neurons of its previous layer.\n",
        "<ul>\n",
        "  <li><code>units</code>: Positive integer, dimensionality of the output space.</li>\n",
        "  <li><code>activation</code>: Activation function to use.</li>\n",
        "</ul>\n",
        "\n",
        "> <b>Recall</b>: <code>tf.keras.activations.relu</code> activation applies the rectified linear unit activation function.\n",
        "\n",
        "> <b>Recall</b>: <code>tf.keras.activations.softmax</code> is an activation that convert a vector of values to a probability distribution.<br>"
      ],
      "metadata": {
        "id": "hmkUPU26MJtV"
      }
    },
    {
      "cell_type": "markdown",
      "source": [
        "<h1>Compiling and Fitting the Model<h1>\n",
        "<h4>The optimizing function used is Adam, that is a combination of RMSprop & Adagram optimizing algorithms.\n",
        "The dataset is very large so we are training for only a single epoch, however, as required we can even train it for multiple epochs(which is recommended for character recognition for better accuracy).</h4>\n"
      ],
      "metadata": {
        "id": "BVW6_Z-5Q6ci"
      }
    },
    {
      "cell_type": "code",
      "source": [
        "model.compile(optimizer = Adam(learning_rate=0.001), loss='categorical_crossentropy', metrics=['accuracy'])\n",
        "history = model.fit(train_X, train_yOHE, epochs=1,  validation_data = (test_X,test_yOHE))"
      ],
      "metadata": {
        "id": "SUFuQMYELre0",
        "outputId": "420f1551-fd25-4431-a80f-d7bd1f778c8a",
        "colab": {
          "base_uri": "https://localhost:8080/"
        }
      },
      "execution_count": 11,
      "outputs": [
        {
          "output_type": "stream",
          "name": "stdout",
          "text": [
            "9312/9312 [==============================] - 419s 45ms/step - loss: 0.1532 - accuracy: 0.9581 - val_loss: 0.0907 - val_accuracy: 0.9754\n"
          ]
        }
      ]
    },
    {
      "cell_type": "code",
      "source": [
        "model.summary()\n",
        "model.save(r'model_hand.h5')"
      ],
      "metadata": {
        "id": "w-XT98ETRBII",
        "outputId": "1047c0dc-4602-4955-cfb2-686c1393ea01",
        "colab": {
          "base_uri": "https://localhost:8080/"
        }
      },
      "execution_count": 12,
      "outputs": [
        {
          "output_type": "stream",
          "name": "stdout",
          "text": [
            "Model: \"sequential\"\n",
            "_________________________________________________________________\n",
            " Layer (type)                Output Shape              Param #   \n",
            "=================================================================\n",
            " conv2d (Conv2D)             (None, 26, 26, 32)        320       \n",
            "                                                                 \n",
            " max_pooling2d (MaxPooling2D  (None, 13, 13, 32)       0         \n",
            " )                                                               \n",
            "                                                                 \n",
            " conv2d_1 (Conv2D)           (None, 13, 13, 64)        18496     \n",
            "                                                                 \n",
            " max_pooling2d_1 (MaxPooling  (None, 6, 6, 64)         0         \n",
            " 2D)                                                             \n",
            "                                                                 \n",
            " conv2d_2 (Conv2D)           (None, 4, 4, 128)         73856     \n",
            "                                                                 \n",
            " max_pooling2d_2 (MaxPooling  (None, 2, 2, 128)        0         \n",
            " 2D)                                                             \n",
            "                                                                 \n",
            " flatten (Flatten)           (None, 512)               0         \n",
            "                                                                 \n",
            " dense (Dense)               (None, 64)                32832     \n",
            "                                                                 \n",
            " dense_1 (Dense)             (None, 128)               8320      \n",
            "                                                                 \n",
            " dense_2 (Dense)             (None, 26)                3354      \n",
            "                                                                 \n",
            "=================================================================\n",
            "Total params: 137,178\n",
            "Trainable params: 137,178\n",
            "Non-trainable params: 0\n",
            "_________________________________________________________________\n"
          ]
        }
      ]
    },
    {
      "cell_type": "markdown",
      "source": [
        "<h1>Getting the Train & Validation Accuracies & Losses.</h1>\n",
        "Training & validation accuracies along with the training & validation losses for character recognition."
      ],
      "metadata": {
        "id": "H8UdFyi6S9-H"
      }
    },
    {
      "cell_type": "code",
      "source": [
        "print(\"The validation accuracy is :\", history.history['val_accuracy'])\n",
        "print(\"The training accuracy is :\", history.history['accuracy'])\n",
        "print(\"The validation loss is :\", history.history['val_loss'])\n",
        "print(\"The training loss is :\", history.history['loss'])"
      ],
      "metadata": {
        "id": "5kQHWxiES67Z",
        "outputId": "22a5f8e8-e4da-4560-e88e-5cf73efedac6",
        "colab": {
          "base_uri": "https://localhost:8080/"
        }
      },
      "execution_count": 13,
      "outputs": [
        {
          "output_type": "stream",
          "name": "stdout",
          "text": [
            "The validation accuracy is : [0.9753926992416382]\n",
            "The training accuracy is : [0.9581286311149597]\n",
            "The validation loss is : [0.09073515981435776]\n",
            "The training loss is : [0.1532047986984253]\n"
          ]
        }
      ]
    },
    {
      "cell_type": "markdown",
      "source": [
        "<h1>Doing Some Predictions on Test Data</h1>\n",
        "Create 9 subplots of (3,3) shape & visualize some of the test dataset alphabets along with their predictions, that are made using the <code>model.predict()</code> function for text recognition."
      ],
      "metadata": {
        "id": "GNYVm20vTM1A"
      }
    },
    {
      "cell_type": "code",
      "source": [
        "fig, axes = plt.subplots(3,3, figsize=(8,9))\n",
        "axes = axes.flatten()\n",
        "for i,ax in enumerate(axes):\n",
        "    img = np.reshape(test_X[i], (28,28))\n",
        "    ax.imshow(img, cmap=\"Greys\")\n",
        "    \n",
        "    pred = word_dict[np.argmax(test_yOHE[i])]\n",
        "    ax.set_title(\"Prediction: \"+pred)\n",
        "    ax.grid()"
      ],
      "metadata": {
        "id": "K2bIqKMwTKnW",
        "outputId": "f04cc168-4d47-4a6b-fc5a-75ba6e31bf7c",
        "colab": {
          "base_uri": "https://localhost:8080/",
          "height": 541
        }
      },
      "execution_count": 14,
      "outputs": [
        {
          "output_type": "display_data",
          "data": {
            "text/plain": [
              "<Figure size 576x648 with 9 Axes>"
            ],
            "image/png": "[encoded data removed]"
          },
          "metadata": {
            "needs_background": "light"
          }
        }
      ]
    },
    {
      "cell_type": "markdown",
      "source": [
        "<h1>Doing Prediction on External Image</h1>\n",
        "Read an external image and make a copy of it to go through some processing. The image read is then converted from BGR representation (as OpenCV reads the image in BGR format) to RGB for displaying the image, & is resized to our required dimensions that we want to display the image in."
      ],
      "metadata": {
        "id": "3mlGdkIYrQtO"
      }
    },
    {
      "cell_type": "code",
      "source": [
        "# img = cv2.imread(r'img_b.jpg')\n",
        "img = cv2.imread('img_b.jpg')\n",
        "img_copy = img.copy()\n",
        "img = cv2.cvtColor(img, cv2.COLOR_BGR2RGB)\n",
        "img = cv2.resize(img, (400,440))"
      ],
      "metadata": {
        "id": "_3L8I8uxTRDj",
        "outputId": "1622716f-8ccd-4d38-cfad-1c26fc6c4e83",
        "colab": {
          "base_uri": "https://localhost:8080/",
          "height": 235
        }
      },
      "execution_count": 19,
      "outputs": [
        {
          "output_type": "error",
          "ename": "AttributeError",
          "evalue": "ignored",
          "traceback": [
            "\u001b[0;31m---------------------------------------------------------------------------\u001b[0m",
            "\u001b[0;31mAttributeError\u001b[0m                            Traceback (most recent call last)",
            "\u001b[0;32m<ipython-input-19-375923931500>\u001b[0m in \u001b[0;36m<module>\u001b[0;34m()\u001b[0m\n\u001b[1;32m      1\u001b[0m \u001b[0;31m# img = cv2.imread(r'img_b.jpg')\u001b[0m\u001b[0;34m\u001b[0m\u001b[0;34m\u001b[0m\u001b[0;34m\u001b[0m\u001b[0m\n\u001b[1;32m      2\u001b[0m \u001b[0mimg\u001b[0m \u001b[0;34m=\u001b[0m \u001b[0mcv2\u001b[0m\u001b[0;34m.\u001b[0m\u001b[0mimread\u001b[0m\u001b[0;34m(\u001b[0m\u001b[0;34m'img_b.jpg'\u001b[0m\u001b[0;34m)\u001b[0m\u001b[0;34m\u001b[0m\u001b[0;34m\u001b[0m\u001b[0m\n\u001b[0;32m----> 3\u001b[0;31m \u001b[0mimg_copy\u001b[0m \u001b[0;34m=\u001b[0m \u001b[0mimg\u001b[0m\u001b[0;34m.\u001b[0m\u001b[0mcopy\u001b[0m\u001b[0;34m(\u001b[0m\u001b[0;34m)\u001b[0m\u001b[0;34m\u001b[0m\u001b[0;34m\u001b[0m\u001b[0m\n\u001b[0m\u001b[1;32m      4\u001b[0m \u001b[0mimg\u001b[0m \u001b[0;34m=\u001b[0m \u001b[0mcv2\u001b[0m\u001b[0;34m.\u001b[0m\u001b[0mcvtColor\u001b[0m\u001b[0;34m(\u001b[0m\u001b[0mimg\u001b[0m\u001b[0;34m,\u001b[0m \u001b[0mcv2\u001b[0m\u001b[0;34m.\u001b[0m\u001b[0mCOLOR_BGR2RGB\u001b[0m\u001b[0;34m)\u001b[0m\u001b[0;34m\u001b[0m\u001b[0;34m\u001b[0m\u001b[0m\n\u001b[1;32m      5\u001b[0m \u001b[0mimg\u001b[0m \u001b[0;34m=\u001b[0m \u001b[0mcv2\u001b[0m\u001b[0;34m.\u001b[0m\u001b[0mresize\u001b[0m\u001b[0;34m(\u001b[0m\u001b[0mimg\u001b[0m\u001b[0;34m,\u001b[0m \u001b[0;34m(\u001b[0m\u001b[0;36m400\u001b[0m\u001b[0;34m,\u001b[0m\u001b[0;36m440\u001b[0m\u001b[0;34m)\u001b[0m\u001b[0;34m)\u001b[0m\u001b[0;34m\u001b[0m\u001b[0;34m\u001b[0m\u001b[0m\n",
            "\u001b[0;31mAttributeError\u001b[0m: 'NoneType' object has no attribute 'copy'"
          ]
        }
      ]
    },
    {
      "cell_type": "markdown",
      "source": [
        "We convert the image from BGR to grayscale and apply thresholding to it. We don’t need to apply a threshold we could use the grayscale to predict, but we do it to keep the image smooth without any sort of hazy gray colors in the image that could lead to wrong predictions.<br>\n",
        "The image is to be then resized using <code>cv2.resize()</code> function into the dimensions that the model takes as input, along with reshaping the image using <code>np.reshape()</code> so that it can be used as model input."
      ],
      "metadata": {
        "id": "U1FkXknpDvCO"
      }
    },
    {
      "cell_type": "code",
      "source": [
        "img_copy = cv2.GaussianBlur(img_copy, (7,7), 0)\n",
        "img_gray = cv2.cvtColor(img_copy, cv2.COLOR_BGR2GRAY)\n",
        "_, img_thresh = cv2.threshold(img_gray, 100, 255, cv2.THRESH_BINARY_INV)\n",
        "img_final = cv2.resize(img_thresh, (28,28))\n",
        "img_final =np.reshape(img_final, (1,28,28,1))"
      ],
      "metadata": {
        "id": "oUx8q5u7MTkU"
      },
      "execution_count": null,
      "outputs": []
    },
    {
      "cell_type": "markdown",
      "source": [
        "Now we make a prediction using the processed image & use the <code>np.argmax()</code> function to get the index of the class with the highest predicted probability. Using this we get to know the exact character through the word_dict dictionary.<br>\n",
        "This predicted character is then displayed on the frame."
      ],
      "metadata": {
        "id": "nSo_o0phEEY-"
      }
    },
    {
      "cell_type": "code",
      "source": [
        "img_pred = word_dict[np.argmax(model.predict(img_final))]\n",
        "cv2.putText(img, \"Dataflair _ _ _ \", (20,25), cv2.FONT_HERSHEY_TRIPLEX, 0.7, color = (0,0,230))\n",
        "cv2.putText(img, \"Prediction: \" + img_pred, (20,410), cv2.FONT_HERSHEY_DUPLEX, 1.3, color = (255,0,30))\n",
        "cv2.imshow('Dataflair handwritten character recognition _ _ _ ', img)"
      ],
      "metadata": {
        "id": "LPx195dGEUe_"
      },
      "execution_count": null,
      "outputs": []
    },
    {
      "cell_type": "markdown",
      "source": [
        "Here we are setting up a waitKey in a while loop that will be stuck in loop until Esc is pressed, & when it gets out of loop using <code>cv2.destroyAllWindows()</code> we destroy any active windows created to stop displaying the frame."
      ],
      "metadata": {
        "id": "_dmNu0miFy1W"
      }
    },
    {
      "cell_type": "code",
      "source": [
        "while (1):\n",
        "    k = cv2.waitKey(1) & 0xFF\n",
        "    if k == 27:\n",
        "        break\n",
        "cv2.destroyAllWindows("
      ],
      "metadata": {
        "id": "5b-1xRp-EWC7"
      },
      "execution_count": null,
      "outputs": []
    },
    {
      "cell_type": "code",
      "source": [
        ""
      ],
      "metadata": {
        "id": "Z04o4GXHF2-R"
      },
      "execution_count": null,
      "outputs": []
    }
  ]
}